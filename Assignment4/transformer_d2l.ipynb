{
 "cells": [
  {
   "cell_type": "markdown",
   "metadata": {},
   "source": [
    "# <center> transformer框架 </center>\n",
    "by Hyr1sky_He\n",
    "\n",
    "Link to the lecture [68 Transformer【动手学深度学习v2】](https://www.bilibili.com/video/BV1Kq4y1H7FL/?share_source=copy_web&vd_source=7d2cf6f427cab8ff5afa3cb534b98123)"
   ]
  },
  {
   "cell_type": "markdown",
   "metadata": {},
   "source": [
    "## Multihead Attention"
   ]
  },
  {
   "cell_type": "code",
   "execution_count": 2,
   "metadata": {},
   "outputs": [],
   "source": [
    "import math\n",
    "import torch\n",
    "from torch import nn\n",
    "from d2l import torch as d2l\n",
    "\n",
    "if torch.cuda.is_available():\n",
    "    device = torch.device('cuda')"
   ]
  },
  {
   "cell_type": "code",
   "execution_count": 10,
   "metadata": {},
   "outputs": [],
   "source": [
    "def transpose_qkv(X, num_heads):\n",
    "    \"\"\"Note\n",
    "    For parrallel computation, we can concat the heads together\n",
    "    INPUT: X.shape = (batch_size, num_steps, num_hiddens)\n",
    "    OUTPUT: X.shape = (batch_size * num_heads, num_steps, num_hiddens/num_heads)\n",
    "    combine the num_heads and num_hiddens/num_heads together\n",
    "    \"\"\"\n",
    "    X = X.reshape(X.shape[0], X.shape[1], num_heads, -1)\n",
    "    X = X.permute(0, 2, 1, 3)\n",
    "    return X.reshape(-1, X.shape[2], X.shape[3])\n",
    "\n",
    "def transpose_output(X, num_heads):\n",
    "    \"\"\"Note\n",
    "    Inverse of transpose_qkv\n",
    "    INPUT: X.shape = (batch_size * num_heads, num_steps, num_hiddens/num_heads)\n",
    "    OUTPUT: X.shape = (batch_size, num_steps, num_hiddens)\n",
    "    \"\"\"\n",
    "    X = X.reshape(-1, num_heads, X.shape[1], X.shape[2])\n",
    "    X = X.permute(0, 2, 1, 3)\n",
    "    return X.reshape(X.shape[0], X.shape[1], -1)"
   ]
  },
  {
   "cell_type": "code",
   "execution_count": 9,
   "metadata": {},
   "outputs": [],
   "source": [
    "class multiheadAttention (nn.Module):\n",
    "    def __init__(self, query_size, key_size, value_size,\n",
    "                 num_hiddens, num_heads, dropout, bias=False, \n",
    "                 *args, **kwargs) -> None:\n",
    "        super(multiheadAttention, self).__init__(*args, **kwargs)\n",
    "        self.num_heads = num_heads\n",
    "        self.attention = d2l.DotProductAttention(dropout)\n",
    "        self.W_q = nn.Linear(query_size, num_hiddens, bias=bias)\n",
    "        self.W_k = nn.Linear(key_size, num_hiddens, bias=bias)\n",
    "        self.W_v = nn.Linear(value_size, num_hiddens, bias=bias)\n",
    "        self.W_o = nn.Linear(num_hiddens, num_hiddens, bias=bias)\n",
    "\n",
    "    def forward(self, queries, keys, values, valid_lens):\n",
    "        \"\"\"Note\n",
    "        concat all the heads together for matrix multiplication\n",
    "        \"\"\"\n",
    "        queries = transpose_qkv(self.W_q(queries), self.num_heads)\n",
    "        keys = transpose_qkv(self.W_k(keys), self.num_heads)\n",
    "        values = transpose_qkv(self.W_v(values), self.num_heads)\n",
    "        if valid_lens is not None:\n",
    "            valid_lens = torch.repeat_interleave(valid_lens, repeats=self.num_heads, dim=0)\n",
    "        output = self.attention(queries, keys, values, valid_lens)\n",
    "        output_concat = transpose_output(output, self.num_heads)\n",
    "        return self.W_o(output_concat)"
   ]
  },
  {
   "cell_type": "code",
   "execution_count": 11,
   "metadata": {},
   "outputs": [
    {
     "name": "stdout",
     "output_type": "stream",
     "text": [
      "multiheadAttention(\n",
      "  (attention): DotProductAttention(\n",
      "    (dropout): Dropout(p=0.5, inplace=False)\n",
      "  )\n",
      "  (W_q): Linear(in_features=100, out_features=100, bias=False)\n",
      "  (W_k): Linear(in_features=100, out_features=100, bias=False)\n",
      "  (W_v): Linear(in_features=100, out_features=100, bias=False)\n",
      "  (W_o): Linear(in_features=100, out_features=100, bias=False)\n",
      ")\n"
     ]
    },
    {
     "data": {
      "text/plain": [
       "torch.Size([2, 4, 100])"
      ]
     },
     "execution_count": 11,
     "metadata": {},
     "output_type": "execute_result"
    }
   ],
   "source": [
    "# Test\n",
    "num_hiddens, num_heads = 100, 5 \n",
    "attention = multiheadAttention(num_hiddens, num_hiddens, num_hiddens, num_hiddens, num_heads, 0.5)\n",
    "attention.eval()\n",
    "print(attention)\n",
    "\n",
    "batch_size, num_steps = 2, 4\n",
    "num_kvpairs, valid_lens = 2, torch.tensor([3, 2])\n",
    "X = torch.ones((batch_size, num_steps, num_hiddens))\n",
    "Y = torch.ones((batch_size, num_steps, num_hiddens))\n",
    "attention(X, Y, Y, valid_lens).shape"
   ]
  },
  {
   "cell_type": "markdown",
   "metadata": {},
   "source": [
    "## Transformer"
   ]
  }
 ],
 "metadata": {
  "kernelspec": {
   "display_name": "base",
   "language": "python",
   "name": "python3"
  },
  "language_info": {
   "codemirror_mode": {
    "name": "ipython",
    "version": 3
   },
   "file_extension": ".py",
   "mimetype": "text/x-python",
   "name": "python",
   "nbconvert_exporter": "python",
   "pygments_lexer": "ipython3",
   "version": "3.9.18"
  }
 },
 "nbformat": 4,
 "nbformat_minor": 2
}
