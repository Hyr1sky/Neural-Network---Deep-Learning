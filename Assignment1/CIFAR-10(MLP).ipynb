{
 "cells": [
  {
   "cell_type": "markdown",
   "metadata": {},
   "source": [
    "# <center> CIFAR-10\n",
    "by Hyr1sky_He\n",
    "\n",
    "~~老朋友了，上次拿ResNet写的，这次试试MLP~~"
   ]
  },
  {
   "cell_type": "markdown",
   "metadata": {},
   "source": [
    "## 1. 数据处理\n",
    "\n",
    "### 1.1 读入数据"
   ]
  },
  {
   "cell_type": "code",
   "execution_count": 1,
   "metadata": {},
   "outputs": [],
   "source": [
    "import numpy as np\n",
    "import pandas as pd\n",
    "import time\n",
    "import torch\n",
    "import torchvision\n",
    "import matplotlib.pyplot as plt\n",
    "%matplotlib inline\n",
    "\n",
    "# Constants\n",
    "IMAGE_SIZE = 32\n",
    "NUM_CLASSES = 10\n",
    "COLOR_CHANNELS = 3"
   ]
  },
  {
   "cell_type": "code",
   "execution_count": 3,
   "metadata": {},
   "outputs": [
    {
     "name": "stdout",
     "output_type": "stream",
     "text": [
      "Using PyTorch version: 2.0.1 \n",
      "CUDA: True\n"
     ]
    }
   ],
   "source": [
    "cuda = torch.cuda.is_available()\n",
    "print('Using PyTorch version:', torch.__version__, '\\nCUDA:', cuda)"
   ]
  },
  {
   "cell_type": "code",
   "execution_count": 7,
   "metadata": {},
   "outputs": [],
   "source": [
    "# Load the dataset\n",
    "cifar10 = torchvision.datasets.CIFAR10(root='../Assignment1_dataset/', train = True, download = False)\n",
    "cifar10_test = torchvision.datasets.CIFAR10(root='../Assignment1_dataset/', train = False, download = False)"
   ]
  },
  {
   "cell_type": "markdown",
   "metadata": {},
   "source": [
    "### 1.2 观察数据\n",
    "\n",
    "把Batch_1和meta先读进来，看看Label"
   ]
  },
  {
   "cell_type": "code",
   "execution_count": 29,
   "metadata": {},
   "outputs": [
    {
     "name": "stdout",
     "output_type": "stream",
     "text": [
      "dict_keys(['batch_label', 'labels', 'data', 'filenames'])\n",
      "dict_keys(['num_cases_per_batch', 'label_names', 'num_vis'])\n"
     ]
    }
   ],
   "source": [
    "data_batch_1 = pd.read_pickle('../Assignment1_dataset/cifar-10-batches-py/data_batch_1')\n",
    "meta = pd.read_pickle('../Assignment1_dataset/cifar-10-batches-py/batches.meta')\n",
    "test_batch = pd.read_pickle('../Assignment1_dataset/cifar-10-batches-py/test_batch')\n",
    "\n",
    "print(data_batch_1.keys())\n",
    "print(meta.keys())"
   ]
  },
  {
   "cell_type": "markdown",
   "metadata": {},
   "source": [
    "meta包含了数据集的各种label和信息，再细看一下，顺便把batch_1独热编码了。"
   ]
  },
  {
   "cell_type": "code",
   "execution_count": 30,
   "metadata": {},
   "outputs": [
    {
     "name": "stdout",
     "output_type": "stream",
     "text": [
      "{0, 1, 2, 3, 4, 5, 6, 7, 8, 9}\n",
      "['airplane', 'automobile', 'bird', 'cat', 'deer', 'dog', 'frog', 'horse', 'ship', 'truck'] \n",
      "\n",
      "字典\n",
      "0 : airplane\n",
      "1 : automobile\n",
      "2 : bird\n",
      "3 : cat\n",
      "4 : deer\n",
      "5 : dog\n",
      "6 : frog\n",
      "7 : horse\n",
      "8 : ship\n",
      "9 : truck\n"
     ]
    }
   ],
   "source": [
    "one_hot_labels = set(data_batch_1['labels'])\n",
    "print(one_hot_labels)\n",
    "label_names = meta['label_names']\n",
    "print(label_names, '\\n')\n",
    "label_dict = dict(zip(one_hot_labels, label_names))\n",
    "print('字典')\n",
    "for i in range(10):\n",
    "    print(i, ':', label_dict[i])"
   ]
  },
  {
   "cell_type": "code",
   "execution_count": 34,
   "metadata": {},
   "outputs": [
    {
     "name": "stdout",
     "output_type": "stream",
     "text": [
      "train_data: 10000\n",
      "test_data: 10000\n"
     ]
    }
   ],
   "source": [
    "train_data_1 = list(data_batch_1['labels'])\n",
    "test_data = list(test_batch['labels'])\n",
    "print('train_data:', len(train_data_1))\n",
    "print('test_data:', len(test_data))"
   ]
  }
 ],
 "metadata": {
  "kernelspec": {
   "display_name": "base",
   "language": "python",
   "name": "python3"
  },
  "language_info": {
   "codemirror_mode": {
    "name": "ipython",
    "version": 3
   },
   "file_extension": ".py",
   "mimetype": "text/x-python",
   "name": "python",
   "nbconvert_exporter": "python",
   "pygments_lexer": "ipython3",
   "version": "3.10.9"
  }
 },
 "nbformat": 4,
 "nbformat_minor": 2
}
